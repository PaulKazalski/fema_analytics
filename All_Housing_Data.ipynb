{
 "cells": [
  {
   "cell_type": "code",
   "execution_count": 1,
   "metadata": {},
   "outputs": [],
   "source": [
    "import pandas as pd\n",
    "import numpy as np"
   ]
  },
  {
   "cell_type": "code",
   "execution_count": 2,
   "metadata": {},
   "outputs": [],
   "source": [
    "df1 = pd.read_csv('DisasterDeclarationsSummaries.csv')\n",
    "df2 = pd.read_csv('FEMA_Housing_Assistance_Owners.csv')\n",
    "df3 = pd.read_csv('FEMA_Housing_Assistance_Renters.csv')"
   ]
  },
  {
   "cell_type": "code",
   "execution_count": 3,
   "metadata": {},
   "outputs": [],
   "source": [
    "df1 = df1.rename(columns ={\"disasterNumber\" : \"Disaster\"})"
   ]
  },
  {
   "cell_type": "code",
   "execution_count": 4,
   "metadata": {},
   "outputs": [
    {
     "data": {
      "text/plain": [
       "Index(['femaDeclarationString', 'Disaster', 'state', 'declarationType',\n",
       "       'declarationDate', 'fyDeclared', 'incidentType', 'declarationTitle',\n",
       "       'ihProgramDeclared', 'iaProgramDeclared', 'paProgramDeclared',\n",
       "       'hmProgramDeclared', 'incidentBeginDate', 'incidentEndDate',\n",
       "       'disasterCloseoutDate', 'fipsStateCode', 'fipsCountyCode', 'placeCode',\n",
       "       'designatedArea', 'declarationRequestNumber', 'hash', 'lastRefresh'],\n",
       "      dtype='object')"
      ]
     },
     "execution_count": 4,
     "metadata": {},
     "output_type": "execute_result"
    }
   ],
   "source": [
    "df1.columns"
   ]
  },
  {
   "cell_type": "code",
   "execution_count": 5,
   "metadata": {},
   "outputs": [
    {
     "data": {
      "text/plain": [
       "Index(['Disaster', 'State', 'County', 'City', 'Zip Code',\n",
       "       'Valid Registrations', 'Average FEMA Inspected Damage',\n",
       "       'Total Inspected', 'Total Damage', 'No FEMA Inspected Damage',\n",
       "       'FEMA Inspected Damage between $1 and $10,000',\n",
       "       'FEMA Inspected Damage between $10,001 and $20,000',\n",
       "       'FEMA Inspected Damage between $20,001 and $30,000',\n",
       "       'FEMA Inspected Damage > $30,000', 'Approved for FEMA Assistance',\n",
       "       'Total Approved IHP Amount', 'Repair/Replace Amount', 'Rental Amount',\n",
       "       'Other Needs Amount', 'Approved between $1 and $10,000',\n",
       "       'Approved between $10,001 and $25,000',\n",
       "       'Approved between $25,001 and Max', 'Total Max Grants'],\n",
       "      dtype='object')"
      ]
     },
     "execution_count": 5,
     "metadata": {},
     "output_type": "execute_result"
    }
   ],
   "source": [
    "df2.columns"
   ]
  },
  {
   "cell_type": "code",
   "execution_count": 6,
   "metadata": {},
   "outputs": [
    {
     "data": {
      "text/plain": [
       "Index(['Disaster', 'State', 'County', 'City', 'Zip Code',\n",
       "       'Valid Registrations', 'Total Inspected', 'Inspected with No Damage',\n",
       "       'Total with Moderate Damage', 'Total with Major Damage',\n",
       "       'Total with Substantial Damage', 'Approved for FEMA Assistance',\n",
       "       'Total Approved IHP Amount', 'Repair/Replace Amount', 'Rental Amount',\n",
       "       'Other Needs Amount', 'Approved between $1 and $10,000',\n",
       "       'Approved between $10,001 and $25,000',\n",
       "       'Approved between $25,001 and Max', 'Total Max Grants'],\n",
       "      dtype='object')"
      ]
     },
     "execution_count": 6,
     "metadata": {},
     "output_type": "execute_result"
    }
   ],
   "source": [
    "df3.columns"
   ]
  },
  {
   "cell_type": "code",
   "execution_count": 7,
   "metadata": {},
   "outputs": [
    {
     "data": {
      "text/html": [
       "<div>\n",
       "<style scoped>\n",
       "    .dataframe tbody tr th:only-of-type {\n",
       "        vertical-align: middle;\n",
       "    }\n",
       "\n",
       "    .dataframe tbody tr th {\n",
       "        vertical-align: top;\n",
       "    }\n",
       "\n",
       "    .dataframe thead th {\n",
       "        text-align: right;\n",
       "    }\n",
       "</style>\n",
       "<table border=\"1\" class=\"dataframe\">\n",
       "  <thead>\n",
       "    <tr style=\"text-align: right;\">\n",
       "      <th></th>\n",
       "      <th>0</th>\n",
       "      <th>1</th>\n",
       "      <th>2</th>\n",
       "      <th>3</th>\n",
       "      <th>4</th>\n",
       "      <th>5</th>\n",
       "      <th>6</th>\n",
       "      <th>7</th>\n",
       "      <th>8</th>\n",
       "      <th>9</th>\n",
       "      <th>...</th>\n",
       "      <th>55</th>\n",
       "      <th>56</th>\n",
       "      <th>57</th>\n",
       "      <th>58</th>\n",
       "      <th>59</th>\n",
       "      <th>60</th>\n",
       "      <th>61</th>\n",
       "      <th>62</th>\n",
       "      <th>63</th>\n",
       "      <th>64</th>\n",
       "    </tr>\n",
       "  </thead>\n",
       "  <tbody>\n",
       "    <tr>\n",
       "      <th>0</th>\n",
       "      <td>DR-4-MI</td>\n",
       "      <td>4</td>\n",
       "      <td>MI</td>\n",
       "      <td>DR</td>\n",
       "      <td>1953-06-02T04:00:00.000Z</td>\n",
       "      <td>1953</td>\n",
       "      <td>Tornado</td>\n",
       "      <td>TORNADO</td>\n",
       "      <td>0</td>\n",
       "      <td>1</td>\n",
       "      <td>...</td>\n",
       "      <td>0.0</td>\n",
       "      <td>0.0</td>\n",
       "      <td>$0</td>\n",
       "      <td>$0</td>\n",
       "      <td>$0</td>\n",
       "      <td>$0</td>\n",
       "      <td>0</td>\n",
       "      <td>0</td>\n",
       "      <td>0.0</td>\n",
       "      <td>0.0</td>\n",
       "    </tr>\n",
       "    <tr>\n",
       "      <th>1</th>\n",
       "      <td>DR-2-TX</td>\n",
       "      <td>2</td>\n",
       "      <td>TX</td>\n",
       "      <td>DR</td>\n",
       "      <td>1953-05-15T04:00:00.000Z</td>\n",
       "      <td>1953</td>\n",
       "      <td>Tornado</td>\n",
       "      <td>TORNADO &amp; HEAVY RAINFALL</td>\n",
       "      <td>0</td>\n",
       "      <td>1</td>\n",
       "      <td>...</td>\n",
       "      <td>0.0</td>\n",
       "      <td>0.0</td>\n",
       "      <td>$0</td>\n",
       "      <td>$0</td>\n",
       "      <td>$0</td>\n",
       "      <td>$0</td>\n",
       "      <td>0</td>\n",
       "      <td>0</td>\n",
       "      <td>0.0</td>\n",
       "      <td>0.0</td>\n",
       "    </tr>\n",
       "    <tr>\n",
       "      <th>2</th>\n",
       "      <td>DR-9-TX</td>\n",
       "      <td>9</td>\n",
       "      <td>TX</td>\n",
       "      <td>DR</td>\n",
       "      <td>1953-06-19T04:00:00.000Z</td>\n",
       "      <td>1953</td>\n",
       "      <td>Flood</td>\n",
       "      <td>FLOOD</td>\n",
       "      <td>0</td>\n",
       "      <td>1</td>\n",
       "      <td>...</td>\n",
       "      <td>0.0</td>\n",
       "      <td>0.0</td>\n",
       "      <td>$0</td>\n",
       "      <td>$0</td>\n",
       "      <td>$0</td>\n",
       "      <td>$0</td>\n",
       "      <td>0</td>\n",
       "      <td>0</td>\n",
       "      <td>0.0</td>\n",
       "      <td>0.0</td>\n",
       "    </tr>\n",
       "    <tr>\n",
       "      <th>3</th>\n",
       "      <td>DR-11-NH</td>\n",
       "      <td>11</td>\n",
       "      <td>NH</td>\n",
       "      <td>DR</td>\n",
       "      <td>1953-07-02T04:00:00.000Z</td>\n",
       "      <td>1953</td>\n",
       "      <td>Fire</td>\n",
       "      <td>FOREST FIRE</td>\n",
       "      <td>0</td>\n",
       "      <td>1</td>\n",
       "      <td>...</td>\n",
       "      <td>0.0</td>\n",
       "      <td>2.0</td>\n",
       "      <td>$4,197</td>\n",
       "      <td>$0</td>\n",
       "      <td>$1,436</td>\n",
       "      <td>$2,761</td>\n",
       "      <td>2</td>\n",
       "      <td>0</td>\n",
       "      <td>0.0</td>\n",
       "      <td>0.0</td>\n",
       "    </tr>\n",
       "    <tr>\n",
       "      <th>4</th>\n",
       "      <td>DR-6-MI</td>\n",
       "      <td>6</td>\n",
       "      <td>MI</td>\n",
       "      <td>DR</td>\n",
       "      <td>1953-06-09T04:00:00.000Z</td>\n",
       "      <td>1953</td>\n",
       "      <td>Tornado</td>\n",
       "      <td>TORNADO</td>\n",
       "      <td>0</td>\n",
       "      <td>1</td>\n",
       "      <td>...</td>\n",
       "      <td>0.0</td>\n",
       "      <td>94.0</td>\n",
       "      <td>$227,526</td>\n",
       "      <td>$0</td>\n",
       "      <td>$102,614</td>\n",
       "      <td>$124,912</td>\n",
       "      <td>94</td>\n",
       "      <td>0</td>\n",
       "      <td>0.0</td>\n",
       "      <td>0.0</td>\n",
       "    </tr>\n",
       "  </tbody>\n",
       "</table>\n",
       "<p>5 rows × 65 columns</p>\n",
       "</div>"
      ],
      "text/plain": [
       "         0   1   2   3                         4     5        6   \\\n",
       "0   DR-4-MI   4  MI  DR  1953-06-02T04:00:00.000Z  1953  Tornado   \n",
       "1   DR-2-TX   2  TX  DR  1953-05-15T04:00:00.000Z  1953  Tornado   \n",
       "2   DR-9-TX   9  TX  DR  1953-06-19T04:00:00.000Z  1953    Flood   \n",
       "3  DR-11-NH  11  NH  DR  1953-07-02T04:00:00.000Z  1953     Fire   \n",
       "4   DR-6-MI   6  MI  DR  1953-06-09T04:00:00.000Z  1953  Tornado   \n",
       "\n",
       "                         7   8   9   ...   55    56        57  58        59  \\\n",
       "0                   TORNADO   0   1  ...  0.0   0.0        $0  $0        $0   \n",
       "1  TORNADO & HEAVY RAINFALL   0   1  ...  0.0   0.0        $0  $0        $0   \n",
       "2                     FLOOD   0   1  ...  0.0   0.0        $0  $0        $0   \n",
       "3               FOREST FIRE   0   1  ...  0.0   2.0    $4,197  $0    $1,436   \n",
       "4                   TORNADO   0   1  ...  0.0  94.0  $227,526  $0  $102,614   \n",
       "\n",
       "         60  61  62   63   64  \n",
       "0        $0   0   0  0.0  0.0  \n",
       "1        $0   0   0  0.0  0.0  \n",
       "2        $0   0   0  0.0  0.0  \n",
       "3    $2,761   2   0  0.0  0.0  \n",
       "4  $124,912  94   0  0.0  0.0  \n",
       "\n",
       "[5 rows x 65 columns]"
      ]
     },
     "execution_count": 7,
     "metadata": {},
     "output_type": "execute_result"
    }
   ],
   "source": [
    "dfs = [df1,df2,df3]\n",
    "all_data_df = pd.concat(dfs, axis = 1,join = 'outer',keys = 'Disaster', ignore_index = True)\n",
    "all_data_df.head()"
   ]
  },
  {
   "cell_type": "code",
   "execution_count": null,
   "metadata": {},
   "outputs": [],
   "source": []
  }
 ],
 "metadata": {
  "kernelspec": {
   "display_name": "Python 3",
   "language": "python",
   "name": "python3"
  },
  "language_info": {
   "codemirror_mode": {
    "name": "ipython",
    "version": 3
   },
   "file_extension": ".py",
   "mimetype": "text/x-python",
   "name": "python",
   "nbconvert_exporter": "python",
   "pygments_lexer": "ipython3",
   "version": "3.6.9"
  }
 },
 "nbformat": 4,
 "nbformat_minor": 2
}
