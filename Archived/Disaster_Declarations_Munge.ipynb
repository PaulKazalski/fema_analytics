{
 "cells": [
  {
   "cell_type": "code",
   "execution_count": 1,
   "metadata": {},
   "outputs": [],
   "source": [
    "# Import Dependencies\n",
    "import matplotlib.pyplot as plt\n",
    "import pandas as pd\n",
    "import numpy as np\n",
    "%matplotlib notebook"
   ]
  },
  {
   "cell_type": "code",
   "execution_count": 2,
   "metadata": {},
   "outputs": [],
   "source": [
    "# Import \"Disaster Declarations\" spreadsheet\n",
    "disaster_declare = './data/DisasterDeclarationsSummaries.csv'\n",
    "DD_df = pd.read_csv(disaster_declare, low_memory=False)\n",
    "\n",
    "# Only include inputs that can be summed or are part of the grouping\n",
    "DD_df[\"disasterNumber\"] = DD_df[\"disasterNumber\"].astype(str)\n"
   ]
  },
  {
   "cell_type": "code",
   "execution_count": 3,
   "metadata": {},
   "outputs": [
    {
     "data": {
      "text/html": [
       "<div>\n",
       "<style scoped>\n",
       "    .dataframe tbody tr th:only-of-type {\n",
       "        vertical-align: middle;\n",
       "    }\n",
       "\n",
       "    .dataframe tbody tr th {\n",
       "        vertical-align: top;\n",
       "    }\n",
       "\n",
       "    .dataframe thead th {\n",
       "        text-align: right;\n",
       "    }\n",
       "</style>\n",
       "<table border=\"1\" class=\"dataframe\">\n",
       "  <thead>\n",
       "    <tr style=\"text-align: right;\">\n",
       "      <th></th>\n",
       "      <th>incidentType</th>\n",
       "      <th>fyDeclared</th>\n",
       "      <th>address</th>\n",
       "    </tr>\n",
       "  </thead>\n",
       "  <tbody>\n",
       "    <tr>\n",
       "      <td>0</td>\n",
       "      <td>Tornado</td>\n",
       "      <td>1953</td>\n",
       "      <td>4, MI, Statewide</td>\n",
       "    </tr>\n",
       "    <tr>\n",
       "      <td>1</td>\n",
       "      <td>Tornado</td>\n",
       "      <td>1953</td>\n",
       "      <td>2, TX, Statewide</td>\n",
       "    </tr>\n",
       "    <tr>\n",
       "      <td>2</td>\n",
       "      <td>Flood</td>\n",
       "      <td>1953</td>\n",
       "      <td>9, TX, Statewide</td>\n",
       "    </tr>\n",
       "    <tr>\n",
       "      <td>3</td>\n",
       "      <td>Fire</td>\n",
       "      <td>1953</td>\n",
       "      <td>11, NH, Statewide</td>\n",
       "    </tr>\n",
       "    <tr>\n",
       "      <td>4</td>\n",
       "      <td>Tornado</td>\n",
       "      <td>1953</td>\n",
       "      <td>6, MI, Statewide</td>\n",
       "    </tr>\n",
       "    <tr>\n",
       "      <td>...</td>\n",
       "      <td>...</td>\n",
       "      <td>...</td>\n",
       "      <td>...</td>\n",
       "    </tr>\n",
       "    <tr>\n",
       "      <td>51108</td>\n",
       "      <td>Severe Storm(s)</td>\n",
       "      <td>2020</td>\n",
       "      <td>4471, TN, Humphreys (County)</td>\n",
       "    </tr>\n",
       "    <tr>\n",
       "      <td>51109</td>\n",
       "      <td>Hurricane</td>\n",
       "      <td>2020</td>\n",
       "      <td>4465, NC, Chowan (County)</td>\n",
       "    </tr>\n",
       "    <tr>\n",
       "      <td>51110</td>\n",
       "      <td>Hurricane</td>\n",
       "      <td>2020</td>\n",
       "      <td>4465, NC, Bladen (County)</td>\n",
       "    </tr>\n",
       "    <tr>\n",
       "      <td>51111</td>\n",
       "      <td>Hurricane</td>\n",
       "      <td>2020</td>\n",
       "      <td>4468, FL, Broward (County)</td>\n",
       "    </tr>\n",
       "    <tr>\n",
       "      <td>51112</td>\n",
       "      <td>Hurricane</td>\n",
       "      <td>2020</td>\n",
       "      <td>4468, FL, Volusia (County)</td>\n",
       "    </tr>\n",
       "  </tbody>\n",
       "</table>\n",
       "<p>51113 rows × 3 columns</p>\n",
       "</div>"
      ],
      "text/plain": [
       "          incidentType  fyDeclared                       address\n",
       "0              Tornado        1953              4, MI, Statewide\n",
       "1              Tornado        1953              2, TX, Statewide\n",
       "2                Flood        1953              9, TX, Statewide\n",
       "3                 Fire        1953             11, NH, Statewide\n",
       "4              Tornado        1953              6, MI, Statewide\n",
       "...                ...         ...                           ...\n",
       "51108  Severe Storm(s)        2020  4471, TN, Humphreys (County)\n",
       "51109        Hurricane        2020     4465, NC, Chowan (County)\n",
       "51110        Hurricane        2020     4465, NC, Bladen (County)\n",
       "51111        Hurricane        2020    4468, FL, Broward (County)\n",
       "51112        Hurricane        2020    4468, FL, Volusia (County)\n",
       "\n",
       "[51113 rows x 3 columns]"
      ]
     },
     "execution_count": 3,
     "metadata": {},
     "output_type": "execute_result"
    }
   ],
   "source": [
    "DD_df[\"address\"] = DD_df[\"disasterNumber\"] + ', ' + DD_df[\"state\"] + ', ' + DD_df[\"designatedArea\"]\n",
    "\n",
    "DDa_df = DD_df.loc[:,[\"incidentType\", \"fyDeclared\", \"address\"]]\n",
    "DDa_df"
   ]
  },
  {
   "cell_type": "code",
   "execution_count": 4,
   "metadata": {},
   "outputs": [
    {
     "data": {
      "text/html": [
       "<div>\n",
       "<style scoped>\n",
       "    .dataframe tbody tr th:only-of-type {\n",
       "        vertical-align: middle;\n",
       "    }\n",
       "\n",
       "    .dataframe tbody tr th {\n",
       "        vertical-align: top;\n",
       "    }\n",
       "\n",
       "    .dataframe thead th {\n",
       "        text-align: right;\n",
       "    }\n",
       "</style>\n",
       "<table border=\"1\" class=\"dataframe\">\n",
       "  <thead>\n",
       "    <tr style=\"text-align: right;\">\n",
       "      <th></th>\n",
       "      <th>incidentType</th>\n",
       "      <th>fyDeclared</th>\n",
       "      <th>counties affected</th>\n",
       "    </tr>\n",
       "  </thead>\n",
       "  <tbody>\n",
       "    <tr>\n",
       "      <td>0</td>\n",
       "      <td>Chemical</td>\n",
       "      <td>2014</td>\n",
       "      <td>9</td>\n",
       "    </tr>\n",
       "    <tr>\n",
       "      <td>1</td>\n",
       "      <td>Coastal Storm</td>\n",
       "      <td>1972</td>\n",
       "      <td>15</td>\n",
       "    </tr>\n",
       "    <tr>\n",
       "      <td>2</td>\n",
       "      <td>Coastal Storm</td>\n",
       "      <td>1975</td>\n",
       "      <td>1</td>\n",
       "    </tr>\n",
       "    <tr>\n",
       "      <td>3</td>\n",
       "      <td>Coastal Storm</td>\n",
       "      <td>1980</td>\n",
       "      <td>3</td>\n",
       "    </tr>\n",
       "    <tr>\n",
       "      <td>4</td>\n",
       "      <td>Coastal Storm</td>\n",
       "      <td>1983</td>\n",
       "      <td>40</td>\n",
       "    </tr>\n",
       "    <tr>\n",
       "      <td>...</td>\n",
       "      <td>...</td>\n",
       "      <td>...</td>\n",
       "      <td>...</td>\n",
       "    </tr>\n",
       "    <tr>\n",
       "      <td>463</td>\n",
       "      <td>Volcano</td>\n",
       "      <td>1955</td>\n",
       "      <td>1</td>\n",
       "    </tr>\n",
       "    <tr>\n",
       "      <td>464</td>\n",
       "      <td>Volcano</td>\n",
       "      <td>1980</td>\n",
       "      <td>47</td>\n",
       "    </tr>\n",
       "    <tr>\n",
       "      <td>465</td>\n",
       "      <td>Volcano</td>\n",
       "      <td>1990</td>\n",
       "      <td>1</td>\n",
       "    </tr>\n",
       "    <tr>\n",
       "      <td>466</td>\n",
       "      <td>Volcano</td>\n",
       "      <td>2015</td>\n",
       "      <td>1</td>\n",
       "    </tr>\n",
       "    <tr>\n",
       "      <td>467</td>\n",
       "      <td>Volcano</td>\n",
       "      <td>2018</td>\n",
       "      <td>1</td>\n",
       "    </tr>\n",
       "  </tbody>\n",
       "</table>\n",
       "<p>468 rows × 3 columns</p>\n",
       "</div>"
      ],
      "text/plain": [
       "      incidentType  fyDeclared  counties affected\n",
       "0         Chemical        2014                  9\n",
       "1    Coastal Storm        1972                 15\n",
       "2    Coastal Storm        1975                  1\n",
       "3    Coastal Storm        1980                  3\n",
       "4    Coastal Storm        1983                 40\n",
       "..             ...         ...                ...\n",
       "463        Volcano        1955                  1\n",
       "464        Volcano        1980                 47\n",
       "465        Volcano        1990                  1\n",
       "466        Volcano        2015                  1\n",
       "467        Volcano        2018                  1\n",
       "\n",
       "[468 rows x 3 columns]"
      ]
     },
     "execution_count": 4,
     "metadata": {},
     "output_type": "execute_result"
    }
   ],
   "source": [
    "\n",
    "DDa_df = DDa_df.groupby([\"incidentType\", \"fyDeclared\"]).count()\n",
    "# Convert to DataFrame\n",
    "DDa_df = DDa_df.reset_index()\n",
    "# Preview DataFrame\n",
    "incidents_df = DDa_df.rename(columns = {\"address\": \"counties affected\"})\n",
    "\n",
    "incidents_df"
   ]
  },
  {
   "cell_type": "code",
   "execution_count": 9,
   "metadata": {},
   "outputs": [
    {
     "data": {
      "text/html": [
       "<div>\n",
       "<style scoped>\n",
       "    .dataframe tbody tr th:only-of-type {\n",
       "        vertical-align: middle;\n",
       "    }\n",
       "\n",
       "    .dataframe tbody tr th {\n",
       "        vertical-align: top;\n",
       "    }\n",
       "\n",
       "    .dataframe thead th {\n",
       "        text-align: right;\n",
       "    }\n",
       "</style>\n",
       "<table border=\"1\" class=\"dataframe\">\n",
       "  <thead>\n",
       "    <tr style=\"text-align: right;\">\n",
       "      <th>incidentType</th>\n",
       "      <th>Chemical</th>\n",
       "      <th>Coastal Storm</th>\n",
       "      <th>Dam/Levee Break</th>\n",
       "      <th>Drought</th>\n",
       "      <th>Earthquake</th>\n",
       "      <th>Fire</th>\n",
       "      <th>Fishing Losses</th>\n",
       "      <th>Flood</th>\n",
       "      <th>Freezing</th>\n",
       "      <th>Human Cause</th>\n",
       "      <th>...</th>\n",
       "      <th>Other</th>\n",
       "      <th>Severe Ice Storm</th>\n",
       "      <th>Severe Storm(s)</th>\n",
       "      <th>Snow</th>\n",
       "      <th>Terrorist</th>\n",
       "      <th>Tornado</th>\n",
       "      <th>Toxic Substances</th>\n",
       "      <th>Tsunami</th>\n",
       "      <th>Typhoon</th>\n",
       "      <th>Volcano</th>\n",
       "    </tr>\n",
       "    <tr>\n",
       "      <th>fyDeclared</th>\n",
       "      <th></th>\n",
       "      <th></th>\n",
       "      <th></th>\n",
       "      <th></th>\n",
       "      <th></th>\n",
       "      <th></th>\n",
       "      <th></th>\n",
       "      <th></th>\n",
       "      <th></th>\n",
       "      <th></th>\n",
       "      <th></th>\n",
       "      <th></th>\n",
       "      <th></th>\n",
       "      <th></th>\n",
       "      <th></th>\n",
       "      <th></th>\n",
       "      <th></th>\n",
       "      <th></th>\n",
       "      <th></th>\n",
       "      <th></th>\n",
       "      <th></th>\n",
       "    </tr>\n",
       "  </thead>\n",
       "  <tbody>\n",
       "    <tr>\n",
       "      <td>2016</td>\n",
       "      <td>0.0</td>\n",
       "      <td>1.0</td>\n",
       "      <td>0.0</td>\n",
       "      <td>0.0</td>\n",
       "      <td>0.0</td>\n",
       "      <td>52.0</td>\n",
       "      <td>0.0</td>\n",
       "      <td>400.0</td>\n",
       "      <td>0.0</td>\n",
       "      <td>0.0</td>\n",
       "      <td>...</td>\n",
       "      <td>0.0</td>\n",
       "      <td>21.0</td>\n",
       "      <td>393.0</td>\n",
       "      <td>74.0</td>\n",
       "      <td>0.0</td>\n",
       "      <td>1.0</td>\n",
       "      <td>1.0</td>\n",
       "      <td>0.0</td>\n",
       "      <td>0.0</td>\n",
       "      <td>0.0</td>\n",
       "    </tr>\n",
       "    <tr>\n",
       "      <td>2017</td>\n",
       "      <td>0.0</td>\n",
       "      <td>0.0</td>\n",
       "      <td>3.0</td>\n",
       "      <td>0.0</td>\n",
       "      <td>0.0</td>\n",
       "      <td>90.0</td>\n",
       "      <td>0.0</td>\n",
       "      <td>220.0</td>\n",
       "      <td>0.0</td>\n",
       "      <td>0.0</td>\n",
       "      <td>...</td>\n",
       "      <td>0.0</td>\n",
       "      <td>20.0</td>\n",
       "      <td>257.0</td>\n",
       "      <td>55.0</td>\n",
       "      <td>0.0</td>\n",
       "      <td>45.0</td>\n",
       "      <td>0.0</td>\n",
       "      <td>0.0</td>\n",
       "      <td>0.0</td>\n",
       "      <td>0.0</td>\n",
       "    </tr>\n",
       "    <tr>\n",
       "      <td>2018</td>\n",
       "      <td>0.0</td>\n",
       "      <td>3.0</td>\n",
       "      <td>0.0</td>\n",
       "      <td>0.0</td>\n",
       "      <td>0.0</td>\n",
       "      <td>105.0</td>\n",
       "      <td>0.0</td>\n",
       "      <td>185.0</td>\n",
       "      <td>0.0</td>\n",
       "      <td>0.0</td>\n",
       "      <td>...</td>\n",
       "      <td>0.0</td>\n",
       "      <td>0.0</td>\n",
       "      <td>121.0</td>\n",
       "      <td>39.0</td>\n",
       "      <td>0.0</td>\n",
       "      <td>2.0</td>\n",
       "      <td>0.0</td>\n",
       "      <td>0.0</td>\n",
       "      <td>7.0</td>\n",
       "      <td>1.0</td>\n",
       "    </tr>\n",
       "    <tr>\n",
       "      <td>2019</td>\n",
       "      <td>0.0</td>\n",
       "      <td>42.0</td>\n",
       "      <td>0.0</td>\n",
       "      <td>0.0</td>\n",
       "      <td>8.0</td>\n",
       "      <td>24.0</td>\n",
       "      <td>0.0</td>\n",
       "      <td>648.0</td>\n",
       "      <td>0.0</td>\n",
       "      <td>0.0</td>\n",
       "      <td>...</td>\n",
       "      <td>0.0</td>\n",
       "      <td>0.0</td>\n",
       "      <td>554.0</td>\n",
       "      <td>0.0</td>\n",
       "      <td>0.0</td>\n",
       "      <td>13.0</td>\n",
       "      <td>0.0</td>\n",
       "      <td>0.0</td>\n",
       "      <td>9.0</td>\n",
       "      <td>0.0</td>\n",
       "    </tr>\n",
       "    <tr>\n",
       "      <td>2020</td>\n",
       "      <td>0.0</td>\n",
       "      <td>0.0</td>\n",
       "      <td>0.0</td>\n",
       "      <td>0.0</td>\n",
       "      <td>0.0</td>\n",
       "      <td>14.0</td>\n",
       "      <td>0.0</td>\n",
       "      <td>8.0</td>\n",
       "      <td>0.0</td>\n",
       "      <td>0.0</td>\n",
       "      <td>...</td>\n",
       "      <td>0.0</td>\n",
       "      <td>0.0</td>\n",
       "      <td>58.0</td>\n",
       "      <td>0.0</td>\n",
       "      <td>0.0</td>\n",
       "      <td>0.0</td>\n",
       "      <td>0.0</td>\n",
       "      <td>0.0</td>\n",
       "      <td>8.0</td>\n",
       "      <td>0.0</td>\n",
       "    </tr>\n",
       "  </tbody>\n",
       "</table>\n",
       "<p>5 rows × 22 columns</p>\n",
       "</div>"
      ],
      "text/plain": [
       "incidentType  Chemical  Coastal Storm  Dam/Levee Break  Drought  Earthquake  \\\n",
       "fyDeclared                                                                    \n",
       "2016               0.0            1.0              0.0      0.0         0.0   \n",
       "2017               0.0            0.0              3.0      0.0         0.0   \n",
       "2018               0.0            3.0              0.0      0.0         0.0   \n",
       "2019               0.0           42.0              0.0      0.0         8.0   \n",
       "2020               0.0            0.0              0.0      0.0         0.0   \n",
       "\n",
       "incidentType   Fire  Fishing Losses  Flood  Freezing  Human Cause  ...  Other  \\\n",
       "fyDeclared                                                         ...          \n",
       "2016           52.0             0.0  400.0       0.0          0.0  ...    0.0   \n",
       "2017           90.0             0.0  220.0       0.0          0.0  ...    0.0   \n",
       "2018          105.0             0.0  185.0       0.0          0.0  ...    0.0   \n",
       "2019           24.0             0.0  648.0       0.0          0.0  ...    0.0   \n",
       "2020           14.0             0.0    8.0       0.0          0.0  ...    0.0   \n",
       "\n",
       "incidentType  Severe Ice Storm  Severe Storm(s)  Snow  Terrorist  Tornado  \\\n",
       "fyDeclared                                                                  \n",
       "2016                      21.0            393.0  74.0        0.0      1.0   \n",
       "2017                      20.0            257.0  55.0        0.0     45.0   \n",
       "2018                       0.0            121.0  39.0        0.0      2.0   \n",
       "2019                       0.0            554.0   0.0        0.0     13.0   \n",
       "2020                       0.0             58.0   0.0        0.0      0.0   \n",
       "\n",
       "incidentType  Toxic Substances  Tsunami  Typhoon  Volcano  \n",
       "fyDeclared                                                 \n",
       "2016                       1.0      0.0      0.0      0.0  \n",
       "2017                       0.0      0.0      0.0      0.0  \n",
       "2018                       0.0      0.0      7.0      1.0  \n",
       "2019                       0.0      0.0      9.0      0.0  \n",
       "2020                       0.0      0.0      8.0      0.0  \n",
       "\n",
       "[5 rows x 22 columns]"
      ]
     },
     "execution_count": 9,
     "metadata": {},
     "output_type": "execute_result"
    }
   ],
   "source": [
    "inc_piv_df = incidents_df.pivot(index = 'fyDeclared', columns = 'incidentType', values = 'counties affected')\n",
    "inc_piv_df = inc_piv_df.fillna(value = 0)\n",
    "inc_piv_df.tail(5)\n"
   ]
  },
  {
   "cell_type": "code",
   "execution_count": 11,
   "metadata": {},
   "outputs": [],
   "source": [
    "output_data_file = \"orig_piv_chart.csv\"\n",
    "inc_piv_df.to_csv(output_data_file, index=False, header=True)"
   ]
  },
  {
   "cell_type": "code",
   "execution_count": 8,
   "metadata": {},
   "outputs": [
    {
     "data": {
      "image/png": "[encoded data removed]",
      "text/plain": [
       "<Figure size 432x288 with 1 Axes>"
      ]
     },
     "metadata": {
      "needs_background": "light"
     },
     "output_type": "display_data"
    }
   ],
   "source": [
    "ax = inc_piv_df.plot()\n",
    "plt.title(\"Incident by Year\")\n",
    "plt.legend(loc = \"upper left\")\n",
    "plt.ylabel(\"Counties Affected\")\n",
    "fig = ax.get_figure()\n",
    "fig.savefig('Incident_Type_By_Year.png')"
   ]
  },
  {
   "cell_type": "code",
   "execution_count": 28,
   "metadata": {},
   "outputs": [],
   "source": [
    "inc_piv_df[\"Total\"] = inc_piv_df.sum(axis=1)\n",
    "inc_piv_df\n",
    "\n",
    "#plt.scatter(lat_list, humid_list, marker=\"o\", facecolors=\"blue\", edgecolors=\"black\", alpha=0.75)\n",
    "inc_reset_df = inc_piv_df.reset_index()\n"
   ]
  },
  {
   "cell_type": "code",
   "execution_count": 29,
   "metadata": {},
   "outputs": [
    {
     "data": {
      "text/plain": [
       "<matplotlib.collections.PathCollection at 0x29fef474f88>"
      ]
     },
     "execution_count": 29,
     "metadata": {},
     "output_type": "execute_result"
    },
    {
     "data": {
      "image/png": "[encoded data removed]",
      "text/plain": [
       "<Figure size 432x288 with 1 Axes>"
      ]
     },
     "metadata": {
      "needs_background": "light"
     },
     "output_type": "display_data"
    }
   ],
   "source": [
    "year = inc_reset_df[\"fyDeclared\"]\n",
    "\n",
    "disasters  = inc_reset_df[\"Total\"]\n",
    "plt.scatter(year, disasters, marker=\"o\", facecolors=\"blue\", edgecolors=\"black\", alpha=0.75)"
   ]
  },
  {
   "cell_type": "code",
   "execution_count": 32,
   "metadata": {},
   "outputs": [
    {
     "data": {
      "text/plain": [
       "<matplotlib.collections.PathCollection at 0x29feebca588>"
      ]
     },
     "execution_count": 32,
     "metadata": {},
     "output_type": "execute_result"
    },
    {
     "data": {
      "image/png": "[encoded data removed]",
      "text/plain": [
       "<Figure size 432x288 with 1 Axes>"
      ]
     },
     "metadata": {
      "needs_background": "light"
     },
     "output_type": "display_data"
    }
   ],
   "source": [
    "year = inc_reset_df[\"fyDeclared\"]\n",
    "\n",
    "freezing  = inc_reset_df[\"Freezing\"]\n",
    "plt.scatter(year, freezing, marker=\"o\", facecolors=\"blue\", edgecolors=\"black\", alpha=0.75)"
   ]
  },
  {
   "cell_type": "code",
   "execution_count": 34,
   "metadata": {},
   "outputs": [
    {
     "data": {
      "text/plain": [
       "<matplotlib.collections.PathCollection at 0x29fef514788>"
      ]
     },
     "execution_count": 34,
     "metadata": {},
     "output_type": "execute_result"
    },
    {
     "data": {
      "image/png": "[encoded data removed]",
      "text/plain": [
       "<Figure size 432x288 with 1 Axes>"
      ]
     },
     "metadata": {
      "needs_background": "light"
     },
     "output_type": "display_data"
    }
   ],
   "source": [
    "year = inc_reset_df[\"fyDeclared\"]\n",
    "\n",
    "fire  = inc_reset_df[\"Fire\"]\n",
    "plt.scatter(year, fire, marker=\"o\", facecolors=\"blue\", edgecolors=\"black\", alpha=0.75)"
   ]
  },
  {
   "cell_type": "code",
   "execution_count": 35,
   "metadata": {},
   "outputs": [
    {
     "data": {
      "text/plain": [
       "<matplotlib.collections.PathCollection at 0x29fef364c08>"
      ]
     },
     "execution_count": 35,
     "metadata": {},
     "output_type": "execute_result"
    },
    {
     "data": {
      "image/png": "[encoded data removed]",
      "text/plain": [
       "<Figure size 432x288 with 1 Axes>"
      ]
     },
     "metadata": {
      "needs_background": "light"
     },
     "output_type": "display_data"
    }
   ],
   "source": [
    "year = inc_reset_df[\"fyDeclared\"]\n",
    "\n",
    "drought  = inc_reset_df[\"Drought\"]\n",
    "plt.scatter(year, drought, marker=\"o\", facecolors=\"blue\", edgecolors=\"black\", alpha=0.75)"
   ]
  },
  {
   "cell_type": "code",
   "execution_count": 37,
   "metadata": {},
   "outputs": [
    {
     "data": {
      "text/plain": [
       "<matplotlib.collections.PathCollection at 0x29feec94cc8>"
      ]
     },
     "execution_count": 37,
     "metadata": {},
     "output_type": "execute_result"
    },
    {
     "data": {
      "image/png": "[encoded data removed]",
      "text/plain": [
       "<Figure size 432x288 with 1 Axes>"
      ]
     },
     "metadata": {
      "needs_background": "light"
     },
     "output_type": "display_data"
    }
   ],
   "source": [
    "year = inc_reset_df[\"fyDeclared\"]\n",
    "\n",
    "hurr  = inc_reset_df[\"Hurricane\"]\n",
    "plt.scatter(year, hurr, marker=\"o\", facecolors=\"blue\", edgecolors=\"black\", alpha=0.75)"
   ]
  },
  {
   "cell_type": "code",
   "execution_count": 39,
   "metadata": {},
   "outputs": [
    {
     "data": {
      "text/plain": [
       "<matplotlib.collections.PathCollection at 0x29feec94288>"
      ]
     },
     "execution_count": 39,
     "metadata": {},
     "output_type": "execute_result"
    },
    {
     "data": {
      "image/png": "[encoded data removed]",
      "text/plain": [
       "<Figure size 432x288 with 1 Axes>"
      ]
     },
     "metadata": {
      "needs_background": "light"
     },
     "output_type": "display_data"
    }
   ],
   "source": [
    "year = inc_reset_df[\"fyDeclared\"]\n",
    "\n",
    "sstorm  = inc_reset_df[\"Severe Storm(s)\"]\n",
    "plt.scatter(year, sstorm, marker=\"o\", facecolors=\"blue\", edgecolors=\"black\", alpha=0.75)"
   ]
  }
 ],
 "metadata": {
  "kernelspec": {
   "display_name": "Python 3",
   "language": "python",
   "name": "python3"
  },
  "language_info": {
   "codemirror_mode": {
    "name": "ipython",
    "version": 3
   },
   "file_extension": ".py",
   "mimetype": "text/x-python",
   "name": "python",
   "nbconvert_exporter": "python",
   "pygments_lexer": "ipython3",
   "version": "3.7.4"
  }
 },
 "nbformat": 4,
 "nbformat_minor": 2
}
