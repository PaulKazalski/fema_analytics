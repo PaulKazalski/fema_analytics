{
 "cells": [
  {
   "cell_type": "code",
   "execution_count": 1,
   "metadata": {},
   "outputs": [],
   "source": [
    "import pandas as pd\n",
    "import numpy as np\n",
    "import json\n",
    "import requests\n",
    "import xmltodict, json\n",
    "from pandas.io.json import json_normalize\n",
    "import matplotlib.pyplot as plt\n",
    "%matplotlib notebook"
   ]
  },
  {
   "cell_type": "code",
   "execution_count": 2,
   "metadata": {},
   "outputs": [],
   "source": [
    "#url1 =\"https://www.zillow.com/webservice/GetUpdatedPropertyDetails.htm?zws-id=X1-ZWz17giky9jf9n_43hp8&zpid=48749425\"\n",
    "#url2 =\"http://www.zillow.com/webservice/GetDeepComps.htm?zws-id=X1-ZWz17giky9jf9n_43hp8&zpid=48749425&count=5\"\n",
    "#url3 =\"http://www.zillow.com/webservice/GetDeepSearchResults.htm?zws-id=X1-ZWz17giky9jf9n_43hp8&address=2114+Bigelow+Ave&citystatezip=Seattle%2C+WA\"\n",
    "url4=\"http://www.zillow.com/webservice/GetRegionChildren.htm?zws-id=X1-ZWz17giky9jf9n_43hp8&state=nj&childtype=county\"\n",
    "#url5=\"http://www.zillow.com/webservice/GetRegionChildren.htm?zws-id=X1-ZWz17giky9jf9n_43hp8&state=nj&city=jersey&childtype=neighborhood\""
   ]
  },
  {
   "cell_type": "code",
   "execution_count": 3,
   "metadata": {},
   "outputs": [],
   "source": [
    "#Request API\n",
    "#response1 = requests.get(url1).content\n",
    "#response2 = requests.get(url2).content\n",
    "#response3 = requests.get(url3).content\n",
    "response4 = requests.get(url4).content"
   ]
  },
  {
   "cell_type": "code",
   "execution_count": 4,
   "metadata": {
    "scrolled": false
   },
   "outputs": [],
   "source": [
    "#convert XML to json\n",
    "\n",
    "#resp1 = xmltodict.parse(response1)\n",
    "#resp2 = xmltodict.parse(response2)\n",
    "#resp3 = xmltodict.parse(response3)\n",
    "resp4 = xmltodict.parse(response4)\n",
    "\n",
    "#json.dumps(resp1) \n",
    "#json.dumps(resp2)\n",
    "#json.dumps(resp3)\n",
    "json.dumps(resp4)\n",
    "#convert json to Dataframe\n",
    "\n",
    "#propertydetails_df = pd.DataFrame.from_dict(json_normalize(resp1), orient='columns')\n",
    "#comps_df = pd.DataFrame.from_dict(json_normalize(resp2), orient='columns')\n",
    "#searchresults_df = pd.DataFrame.from_dict(json_normalize(resp3), orient='columns')\n",
    "regionchildren_df = pd.DataFrame.from_dict(json_normalize(resp4), orient='columns')\n"
   ]
  },
  {
   "cell_type": "code",
   "execution_count": 5,
   "metadata": {},
   "outputs": [],
   "source": [
    "#propertydetails_df.rename(columns=lambda x: x[55:], inplace=True)\n",
    "#comps_df.rename(columns=lambda x: x[45:], inplace=True)\n",
    "#searchresults_df.rename(columns=lambda x: x[30:], inplace=True)\n",
    "regionchildren_df.rename(columns=lambda x: x[30:], inplace=True)\n"
   ]
  },
  {
   "cell_type": "code",
   "execution_count": 6,
   "metadata": {},
   "outputs": [
    {
     "data": {
      "text/html": [
       "<div>\n",
       "<style scoped>\n",
       "    .dataframe tbody tr th:only-of-type {\n",
       "        vertical-align: middle;\n",
       "    }\n",
       "\n",
       "    .dataframe tbody tr th {\n",
       "        vertical-align: top;\n",
       "    }\n",
       "\n",
       "    .dataframe thead th {\n",
       "        text-align: right;\n",
       "    }\n",
       "</style>\n",
       "<table border=\"1\" class=\"dataframe\">\n",
       "  <thead>\n",
       "    <tr style=\"text-align: right;\">\n",
       "      <th></th>\n",
       "      <th>@xsi:schemaLocation</th>\n",
       "      <th>@xmlns:xsi</th>\n",
       "      <th>@xmlns:RegionChildren</th>\n",
       "      <th>request.state</th>\n",
       "      <th>request.childtype</th>\n",
       "      <th>message.text</th>\n",
       "      <th>message.code</th>\n",
       "      <th>response.region.id</th>\n",
       "      <th>response.region.latitude</th>\n",
       "      <th>response.region.longitude</th>\n",
       "      <th>response.subregiontype</th>\n",
       "      <th>response.list.count</th>\n",
       "      <th>response.list.region</th>\n",
       "    </tr>\n",
       "  </thead>\n",
       "  <tbody>\n",
       "    <tr>\n",
       "      <td>0</td>\n",
       "      <td>http://www.zillow.com/static/xsd/RegionChildre...</td>\n",
       "      <td>http://www.w3.org/2001/XMLSchema-instance</td>\n",
       "      <td>http://www.zillow.com/static/xsd/RegionChildre...</td>\n",
       "      <td>nj</td>\n",
       "      <td>county</td>\n",
       "      <td>Request successfully processed</td>\n",
       "      <td>0</td>\n",
       "      <td>40</td>\n",
       "      <td>40.14296</td>\n",
       "      <td>-74.727272</td>\n",
       "      <td>county</td>\n",
       "      <td>21</td>\n",
       "      <td>[{'id': '874', 'name': 'Bergen County', 'zinde...</td>\n",
       "    </tr>\n",
       "  </tbody>\n",
       "</table>\n",
       "</div>"
      ],
      "text/plain": [
       "                                 @xsi:schemaLocation  \\\n",
       "0  http://www.zillow.com/static/xsd/RegionChildre...   \n",
       "\n",
       "                                  @xmlns:xsi  \\\n",
       "0  http://www.w3.org/2001/XMLSchema-instance   \n",
       "\n",
       "                               @xmlns:RegionChildren request.state  \\\n",
       "0  http://www.zillow.com/static/xsd/RegionChildre...            nj   \n",
       "\n",
       "  request.childtype                    message.text message.code  \\\n",
       "0            county  Request successfully processed            0   \n",
       "\n",
       "  response.region.id response.region.latitude response.region.longitude  \\\n",
       "0                 40                 40.14296                -74.727272   \n",
       "\n",
       "  response.subregiontype response.list.count  \\\n",
       "0                 county                  21   \n",
       "\n",
       "                                response.list.region  \n",
       "0  [{'id': '874', 'name': 'Bergen County', 'zinde...  "
      ]
     },
     "execution_count": 6,
     "metadata": {},
     "output_type": "execute_result"
    }
   ],
   "source": [
    "regionchildren_df.head(5)"
   ]
  },
  {
   "cell_type": "code",
   "execution_count": 7,
   "metadata": {},
   "outputs": [
    {
     "name": "stdout",
     "output_type": "stream",
     "text": [
      "     id              name                                   zindex   latitude  \\\n",
      "0   874     Bergen County  {'@currency': 'USD', '#text': '424000'}  40.948055   \n",
      "1  2802  Middlesex County  {'@currency': 'USD', '#text': '293300'}  40.430013   \n",
      "2  1106     Hudson County  {'@currency': 'USD', '#text': '321000'}  40.732859   \n",
      "3  2441   Monmouth County  {'@currency': 'USD', '#text': '375700'}  40.302335   \n",
      "4   659      Ocean County  {'@currency': 'USD', '#text': '255700'}  39.823776   \n",
      "\n",
      "    longitude  \n",
      "0   -74.08323  \n",
      "1  -74.416894  \n",
      "2  -74.075484  \n",
      "3  -74.249293  \n",
      "4  -74.259258  \n"
     ]
    }
   ],
   "source": [
    "#extract child(zipcode) which is a dictionary into a dataframe\n",
    "region_list = pd.DataFrame(regionchildren_df['response.list.region'][0])\n",
    "#dropna and reset index\n",
    "region_list.dropna(how=\"any\", inplace=True)\n",
    "region_list.reset_index(drop=True, inplace=True)\n",
    "\n",
    "print(region_list.head(5))"
   ]
  },
  {
   "cell_type": "code",
   "execution_count": 8,
   "metadata": {
    "scrolled": true
   },
   "outputs": [
    {
     "data": {
      "text/html": [
       "<div>\n",
       "<style scoped>\n",
       "    .dataframe tbody tr th:only-of-type {\n",
       "        vertical-align: middle;\n",
       "    }\n",
       "\n",
       "    .dataframe tbody tr th {\n",
       "        vertical-align: top;\n",
       "    }\n",
       "\n",
       "    .dataframe thead th {\n",
       "        text-align: right;\n",
       "    }\n",
       "</style>\n",
       "<table border=\"1\" class=\"dataframe\">\n",
       "  <thead>\n",
       "    <tr style=\"text-align: right;\">\n",
       "      <th></th>\n",
       "      <th>id</th>\n",
       "      <th>name</th>\n",
       "      <th>zindex</th>\n",
       "      <th>latitude</th>\n",
       "      <th>longitude</th>\n",
       "      <th>USD</th>\n",
       "    </tr>\n",
       "  </thead>\n",
       "  <tbody>\n",
       "    <tr>\n",
       "      <td>0</td>\n",
       "      <td>874</td>\n",
       "      <td>Bergen County</td>\n",
       "      <td>{'@currency': 'USD', '#text': '424000'}</td>\n",
       "      <td>40.948055</td>\n",
       "      <td>-74.08323</td>\n",
       "      <td>424000</td>\n",
       "    </tr>\n",
       "    <tr>\n",
       "      <td>1</td>\n",
       "      <td>2802</td>\n",
       "      <td>Middlesex County</td>\n",
       "      <td>{'@currency': 'USD', '#text': '293300'}</td>\n",
       "      <td>40.430013</td>\n",
       "      <td>-74.416894</td>\n",
       "      <td>293300</td>\n",
       "    </tr>\n",
       "    <tr>\n",
       "      <td>2</td>\n",
       "      <td>1106</td>\n",
       "      <td>Hudson County</td>\n",
       "      <td>{'@currency': 'USD', '#text': '321000'}</td>\n",
       "      <td>40.732859</td>\n",
       "      <td>-74.075484</td>\n",
       "      <td>321000</td>\n",
       "    </tr>\n",
       "    <tr>\n",
       "      <td>3</td>\n",
       "      <td>2441</td>\n",
       "      <td>Monmouth County</td>\n",
       "      <td>{'@currency': 'USD', '#text': '375700'}</td>\n",
       "      <td>40.302335</td>\n",
       "      <td>-74.249293</td>\n",
       "      <td>375700</td>\n",
       "    </tr>\n",
       "    <tr>\n",
       "      <td>4</td>\n",
       "      <td>659</td>\n",
       "      <td>Ocean County</td>\n",
       "      <td>{'@currency': 'USD', '#text': '255700'}</td>\n",
       "      <td>39.823776</td>\n",
       "      <td>-74.259258</td>\n",
       "      <td>255700</td>\n",
       "    </tr>\n",
       "    <tr>\n",
       "      <td>5</td>\n",
       "      <td>771</td>\n",
       "      <td>Union County</td>\n",
       "      <td>{'@currency': 'USD', '#text': '304100'}</td>\n",
       "      <td>40.665566</td>\n",
       "      <td>-74.300026</td>\n",
       "      <td>304100</td>\n",
       "    </tr>\n",
       "    <tr>\n",
       "      <td>6</td>\n",
       "      <td>911</td>\n",
       "      <td>Camden County</td>\n",
       "      <td>{'@currency': 'USD', '#text': '161500'}</td>\n",
       "      <td>39.802185</td>\n",
       "      <td>-74.938069</td>\n",
       "      <td>161500</td>\n",
       "    </tr>\n",
       "    <tr>\n",
       "      <td>7</td>\n",
       "      <td>1964</td>\n",
       "      <td>Passaic County</td>\n",
       "      <td>{'@currency': 'USD', '#text': '290000'}</td>\n",
       "      <td>41.011428</td>\n",
       "      <td>-74.304838</td>\n",
       "      <td>290000</td>\n",
       "    </tr>\n",
       "    <tr>\n",
       "      <td>8</td>\n",
       "      <td>1241</td>\n",
       "      <td>Morris County</td>\n",
       "      <td>{'@currency': 'USD', '#text': '418700'}</td>\n",
       "      <td>40.867759</td>\n",
       "      <td>-74.578194</td>\n",
       "      <td>418700</td>\n",
       "    </tr>\n",
       "    <tr>\n",
       "      <td>9</td>\n",
       "      <td>2896</td>\n",
       "      <td>Burlington County</td>\n",
       "      <td>{'@currency': 'USD', '#text': '212300'}</td>\n",
       "      <td>39.862536</td>\n",
       "      <td>-74.724851</td>\n",
       "      <td>212300</td>\n",
       "    </tr>\n",
       "    <tr>\n",
       "      <td>10</td>\n",
       "      <td>1201</td>\n",
       "      <td>Mercer County</td>\n",
       "      <td>{'@currency': 'USD', '#text': '224200'}</td>\n",
       "      <td>40.2805</td>\n",
       "      <td>-74.712054</td>\n",
       "      <td>224200</td>\n",
       "    </tr>\n",
       "    <tr>\n",
       "      <td>11</td>\n",
       "      <td>2552</td>\n",
       "      <td>Somerset County</td>\n",
       "      <td>{'@currency': 'USD', '#text': '382500'}</td>\n",
       "      <td>40.566201</td>\n",
       "      <td>-74.599839</td>\n",
       "      <td>382500</td>\n",
       "    </tr>\n",
       "    <tr>\n",
       "      <td>12</td>\n",
       "      <td>2929</td>\n",
       "      <td>Gloucester County</td>\n",
       "      <td>{'@currency': 'USD', '#text': '192100'}</td>\n",
       "      <td>39.70156</td>\n",
       "      <td>-75.163937</td>\n",
       "      <td>192100</td>\n",
       "    </tr>\n",
       "    <tr>\n",
       "      <td>13</td>\n",
       "      <td>2133</td>\n",
       "      <td>Atlantic County</td>\n",
       "      <td>{'@currency': 'USD', '#text': '193300'}</td>\n",
       "      <td>39.509238</td>\n",
       "      <td>-74.608641</td>\n",
       "      <td>193300</td>\n",
       "    </tr>\n",
       "    <tr>\n",
       "      <td>14</td>\n",
       "      <td>2913</td>\n",
       "      <td>Cumberland County</td>\n",
       "      <td>{'@currency': 'USD', '#text': '132400'}</td>\n",
       "      <td>39.312411</td>\n",
       "      <td>-75.148302</td>\n",
       "      <td>132400</td>\n",
       "    </tr>\n",
       "    <tr>\n",
       "      <td>15</td>\n",
       "      <td>1413</td>\n",
       "      <td>Sussex County</td>\n",
       "      <td>{'@currency': 'USD', '#text': '215800'}</td>\n",
       "      <td>41.128282</td>\n",
       "      <td>-74.678955</td>\n",
       "      <td>215800</td>\n",
       "    </tr>\n",
       "    <tr>\n",
       "      <td>16</td>\n",
       "      <td>2729</td>\n",
       "      <td>Hunterdon County</td>\n",
       "      <td>{'@currency': 'USD', '#text': '369100'}</td>\n",
       "      <td>40.56363</td>\n",
       "      <td>-74.948862</td>\n",
       "      <td>369100</td>\n",
       "    </tr>\n",
       "    <tr>\n",
       "      <td>17</td>\n",
       "      <td>1478</td>\n",
       "      <td>Warren County</td>\n",
       "      <td>{'@currency': 'USD', '#text': '221400'}</td>\n",
       "      <td>40.843148</td>\n",
       "      <td>-74.985896</td>\n",
       "      <td>221400</td>\n",
       "    </tr>\n",
       "    <tr>\n",
       "      <td>18</td>\n",
       "      <td>2174</td>\n",
       "      <td>Cape May County</td>\n",
       "      <td>{'@currency': 'USD', '#text': '329800'}</td>\n",
       "      <td>39.05652</td>\n",
       "      <td>-74.816695</td>\n",
       "      <td>329800</td>\n",
       "    </tr>\n",
       "    <tr>\n",
       "      <td>19</td>\n",
       "      <td>702</td>\n",
       "      <td>Salem County</td>\n",
       "      <td>{'@currency': 'USD', '#text': '149000'}</td>\n",
       "      <td>39.57144</td>\n",
       "      <td>-75.312779</td>\n",
       "      <td>149000</td>\n",
       "    </tr>\n",
       "  </tbody>\n",
       "</table>\n",
       "</div>"
      ],
      "text/plain": [
       "      id               name                                   zindex  \\\n",
       "0    874      Bergen County  {'@currency': 'USD', '#text': '424000'}   \n",
       "1   2802   Middlesex County  {'@currency': 'USD', '#text': '293300'}   \n",
       "2   1106      Hudson County  {'@currency': 'USD', '#text': '321000'}   \n",
       "3   2441    Monmouth County  {'@currency': 'USD', '#text': '375700'}   \n",
       "4    659       Ocean County  {'@currency': 'USD', '#text': '255700'}   \n",
       "5    771       Union County  {'@currency': 'USD', '#text': '304100'}   \n",
       "6    911      Camden County  {'@currency': 'USD', '#text': '161500'}   \n",
       "7   1964     Passaic County  {'@currency': 'USD', '#text': '290000'}   \n",
       "8   1241      Morris County  {'@currency': 'USD', '#text': '418700'}   \n",
       "9   2896  Burlington County  {'@currency': 'USD', '#text': '212300'}   \n",
       "10  1201      Mercer County  {'@currency': 'USD', '#text': '224200'}   \n",
       "11  2552    Somerset County  {'@currency': 'USD', '#text': '382500'}   \n",
       "12  2929  Gloucester County  {'@currency': 'USD', '#text': '192100'}   \n",
       "13  2133    Atlantic County  {'@currency': 'USD', '#text': '193300'}   \n",
       "14  2913  Cumberland County  {'@currency': 'USD', '#text': '132400'}   \n",
       "15  1413      Sussex County  {'@currency': 'USD', '#text': '215800'}   \n",
       "16  2729   Hunterdon County  {'@currency': 'USD', '#text': '369100'}   \n",
       "17  1478      Warren County  {'@currency': 'USD', '#text': '221400'}   \n",
       "18  2174    Cape May County  {'@currency': 'USD', '#text': '329800'}   \n",
       "19   702       Salem County  {'@currency': 'USD', '#text': '149000'}   \n",
       "\n",
       "     latitude   longitude     USD  \n",
       "0   40.948055   -74.08323  424000  \n",
       "1   40.430013  -74.416894  293300  \n",
       "2   40.732859  -74.075484  321000  \n",
       "3   40.302335  -74.249293  375700  \n",
       "4   39.823776  -74.259258  255700  \n",
       "5   40.665566  -74.300026  304100  \n",
       "6   39.802185  -74.938069  161500  \n",
       "7   41.011428  -74.304838  290000  \n",
       "8   40.867759  -74.578194  418700  \n",
       "9   39.862536  -74.724851  212300  \n",
       "10    40.2805  -74.712054  224200  \n",
       "11  40.566201  -74.599839  382500  \n",
       "12   39.70156  -75.163937  192100  \n",
       "13  39.509238  -74.608641  193300  \n",
       "14  39.312411  -75.148302  132400  \n",
       "15  41.128282  -74.678955  215800  \n",
       "16   40.56363  -74.948862  369100  \n",
       "17  40.843148  -74.985896  221400  \n",
       "18   39.05652  -74.816695  329800  \n",
       "19   39.57144  -75.312779  149000  "
      ]
     },
     "execution_count": 8,
     "metadata": {},
     "output_type": "execute_result"
    }
   ],
   "source": [
    "#extract USD value from dictionary\n",
    "region_list[\"USD\"] = [d.get('#text') for d in region_list.zindex]\n",
    "\n",
    "region_list"
   ]
  },
  {
   "cell_type": "code",
   "execution_count": 12,
   "metadata": {},
   "outputs": [
    {
     "data": {
      "text/plain": [
       "id           object\n",
       "name         object\n",
       "zindex       object\n",
       "latitude     object\n",
       "longitude    object\n",
       "USD           int64\n",
       "dtype: object"
      ]
     },
     "execution_count": 12,
     "metadata": {},
     "output_type": "execute_result"
    }
   ],
   "source": [
    "region_list[\"USD\"] = pd.to_numeric(region_list[\"USD\"])\n",
    "\n",
    "region_list.dtypes"
   ]
  },
  {
   "cell_type": "code",
   "execution_count": 25,
   "metadata": {},
   "outputs": [
    {
     "data": {
      "text/plain": [
       "([<matplotlib.axis.XTick at 0x205e2151808>,\n",
       "  <matplotlib.axis.XTick at 0x205e21405c8>,\n",
       "  <matplotlib.axis.XTick at 0x205e1e4a108>,\n",
       "  <matplotlib.axis.XTick at 0x205e25f2748>,\n",
       "  <matplotlib.axis.XTick at 0x205e25ff308>,\n",
       "  <matplotlib.axis.XTick at 0x205e281a248>,\n",
       "  <matplotlib.axis.XTick at 0x205e281a948>,\n",
       "  <matplotlib.axis.XTick at 0x205e2823608>,\n",
       "  <matplotlib.axis.XTick at 0x205e282c388>,\n",
       "  <matplotlib.axis.XTick at 0x205e2837208>,\n",
       "  <matplotlib.axis.XTick at 0x205e2842988>,\n",
       "  <matplotlib.axis.XTick at 0x205e29d0188>,\n",
       "  <matplotlib.axis.XTick at 0x205e28424c8>,\n",
       "  <matplotlib.axis.XTick at 0x205e281adc8>,\n",
       "  <matplotlib.axis.XTick at 0x205e29db788>,\n",
       "  <matplotlib.axis.XTick at 0x205e29e8b08>,\n",
       "  <matplotlib.axis.XTick at 0x205e29f9348>,\n",
       "  <matplotlib.axis.XTick at 0x205e2a014c8>,\n",
       "  <matplotlib.axis.XTick at 0x205e2a0abc8>,\n",
       "  <matplotlib.axis.XTick at 0x205e2b1f188>],\n",
       " <a list of 20 Text xticklabel objects>)"
      ]
     },
     "execution_count": 25,
     "metadata": {},
     "output_type": "execute_result"
    },
    {
     "data": {
      "image/png": "[encoded data removed]",
      "text/plain": [
       "<Figure size 432x288 with 1 Axes>"
      ]
     },
     "metadata": {
      "needs_background": "light"
     },
     "output_type": "display_data"
    }
   ],
   "source": [
    "x_axis = np.arange(len(region_list))\n",
    "tick_locations = [value for value in x_axis]\n",
    "\n",
    "plt.bar(x_axis, region_list[\"USD\"],color='r', alpha=0.5, align=\"center\")\n",
    "plt.xlabel(\"Counties of New Jersey\")\n",
    "plt.ylabel(\"Median House Prices($)\")\n",
    "plt.xticks(tick_locations, region_list[\"name\"], rotation=\"vertical\")"
   ]
  },
  {
   "cell_type": "code",
   "execution_count": 27,
   "metadata": {
    "scrolled": true
   },
   "outputs": [
    {
     "data": {
      "image/png": "[encoded data removed]",
      "text/plain": [
       "<Figure size 1440x360 with 1 Axes>"
      ]
     },
     "metadata": {
      "needs_background": "light"
     },
     "output_type": "display_data"
    },
    {
     "data": {
      "text/plain": [
       "<Figure size 432x288 with 0 Axes>"
      ]
     },
     "metadata": {},
     "output_type": "display_data"
    }
   ],
   "source": [
    "multi_plot = region_list.plot(kind=\"bar\", figsize=(20,5))\n",
    "\n",
    "# PandasPlot.set_xticklabels() can be used to set the tick labels as well\n",
    "multi_plot.set_xticklabels(region_list[\"name\"], rotation=45)\n",
    "multi_plot.set_xlabel(\"Counties of New Jersey\")\n",
    "multi_plot.set_ylabel(\"Median House Prices($)\")\n",
    "multi_plot.set_title(\"New Jersey Median House Prices by County\")\n",
    "plt.show()\n",
    "plt.tight_layout()"
   ]
  }
 ],
 "metadata": {
  "kernelspec": {
   "display_name": "Python 3",
   "language": "python",
   "name": "python3"
  },
  "language_info": {
   "codemirror_mode": {
    "name": "ipython",
    "version": 3
   },
   "file_extension": ".py",
   "mimetype": "text/x-python",
   "name": "python",
   "nbconvert_exporter": "python",
   "pygments_lexer": "ipython3",
   "version": "3.7.4"
  }
 },
 "nbformat": 4,
 "nbformat_minor": 2
}
