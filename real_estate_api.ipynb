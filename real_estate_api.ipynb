{
 "cells": [
  {
   "cell_type": "code",
   "execution_count": null,
   "metadata": {},
   "outputs": [],
   "source": [
    "import pandas as pd\n",
    "import numpy as np\n",
    "import json\n",
    "import requests\n",
    "import xmltodict, json\n",
    "from pandas.io.json import json_normalize"
   ]
  },
  {
   "cell_type": "code",
   "execution_count": null,
   "metadata": {},
   "outputs": [],
   "source": [
    "url1 =\"https://www.zillow.com/webservice/GetUpdatedPropertyDetails.htm?zws-id=X1-ZWz17giky9jf9n_43hp8&zpid=48749425\"\n",
    "url2 =\"http://www.zillow.com/webservice/GetDeepComps.htm?zws-id=X1-ZWz17giky9jf9n_43hp8&zpid=48749425&count=5\"\n",
    "url3 =\"http://www.zillow.com/webservice/GetDeepSearchResults.htm?zws-id=X1-ZWz17giky9jf9n_43hp8&address=2114+Bigelow+Ave&citystatezip=Seattle%2C+WA\"\n",
    "url4=\"http://www.zillow.com/webservice/GetRegionChildren.htm?zws-id=X1-ZWz17giky9jf9n_43hp8&state=wa&city=seattle&childtype=neighborhood\"\n"
   ]
  },
  {
   "cell_type": "code",
   "execution_count": null,
   "metadata": {},
   "outputs": [],
   "source": [
    "#Request API\n",
    "response1 = requests.get(url1).content\n",
    "response2 = requests.get(url2).content\n",
    "response3 = requests.get(url3).content\n",
    "response4 = requests.get(url4).content"
   ]
  },
  {
   "cell_type": "code",
   "execution_count": null,
   "metadata": {
    "scrolled": false
   },
   "outputs": [],
   "source": [
    "#convert XML to json\n",
    "\n",
    "resp1 = xmltodict.parse(response1)\n",
    "resp2 = xmltodict.parse(response2)\n",
    "resp3 = xmltodict.parse(response3)\n",
    "resp4 = xmltodict.parse(response4)\n",
    "\n",
    "json.dumps(resp1) \n",
    "json.dumps(resp2)\n",
    "json.dumps(resp3)\n",
    "json.dumps(resp4)\n",
    "#convert json to Dataframe\n",
    "\n",
    "propertydetails_df = pd.DataFrame.from_dict(json_normalize(resp1), orient='columns')\n",
    "comps_df = pd.DataFrame.from_dict(json_normalize(resp2), orient='columns')\n",
    "searchresults_df = pd.DataFrame.from_dict(json_normalize(resp3), orient='columns')\n",
    "regionchildren_df = pd.DataFrame.from_dict(json_normalize(resp4), orient='columns')\n"
   ]
  },
  {
   "cell_type": "code",
   "execution_count": null,
   "metadata": {},
   "outputs": [],
   "source": [
    "propertydetails_df.rename(columns=lambda x: x[55:], inplace=True)\n",
    "comps_df.rename(columns=lambda x: x[45:], inplace=True)\n",
    "searchresults_df.rename(columns=lambda x: x[30:], inplace=True)\n",
    "regionchildren_df.rename(columns=lambda x: x[30:], inplace=True)\n",
    "regionchildren_df.columns"
   ]
  },
  {
   "cell_type": "code",
   "execution_count": null,
   "metadata": {},
   "outputs": [],
   "source": [
    "#regionchildren_df\n",
    "#np.savetxt(r'regionchildren.txt', regionchildren_df.values)\n",
    "#regionchildren_df.to_csv(r'regionchildren.csv', header=True, index=None, sep=' ', mode='a')"
   ]
  },
  {
   "cell_type": "code",
   "execution_count": null,
   "metadata": {},
   "outputs": [],
   "source": [
    "regionchildren_df"
   ]
  },
  {
   "cell_type": "code",
   "execution_count": null,
   "metadata": {},
   "outputs": [],
   "source": [
    "#region_list = regionchildren_df['response.list.region']"
   ]
  },
  {
   "cell_type": "code",
   "execution_count": null,
   "metadata": {},
   "outputs": [],
   "source": [
    "region_list = pd.DataFrame(regionchildren_df['response.list.region'][0])\n",
    "print(region_list.head(5))"
   ]
  },
  {
   "cell_type": "code",
   "execution_count": null,
   "metadata": {},
   "outputs": [],
   "source": [
    "\n",
    "eee=ddd[\"zindex\"]\n",
    "\n",
    "eee.to_frame()"
   ]
  },
  {
   "cell_type": "code",
   "execution_count": null,
   "metadata": {},
   "outputs": [],
   "source": [
    "\n",
    "abc1 = pd.DataFrame.from_dict(json_normalize(regionchildren_df['response.list.region']), orient='columns')"
   ]
  },
  {
   "cell_type": "code",
   "execution_count": null,
   "metadata": {},
   "outputs": [],
   "source": [
    "#column names clean-up\n",
    "propertydetails_df.rename(columns=lambda x: x[55:], inplace=True)\n",
    "propertydetails_df.columns"
   ]
  },
  {
   "cell_type": "code",
   "execution_count": null,
   "metadata": {},
   "outputs": [],
   "source": []
  },
  {
   "cell_type": "code",
   "execution_count": null,
   "metadata": {},
   "outputs": [],
   "source": [
    "propertydetails_df"
   ]
  },
  {
   "cell_type": "code",
   "execution_count": null,
   "metadata": {},
   "outputs": [],
   "source": [
    "comps_df.rename(columns=lambda x: x[45:], inplace=True)\n",
    "comps_df.columns"
   ]
  },
  {
   "cell_type": "code",
   "execution_count": null,
   "metadata": {},
   "outputs": [],
   "source": [
    "searchresults_df"
   ]
  },
  {
   "cell_type": "code",
   "execution_count": null,
   "metadata": {},
   "outputs": [],
   "source": []
  }
 ],
 "metadata": {
  "kernelspec": {
   "display_name": "Python 3",
   "language": "python",
   "name": "python3"
  },
  "language_info": {
   "codemirror_mode": {
    "name": "ipython",
    "version": 3
   },
   "file_extension": ".py",
   "mimetype": "text/x-python",
   "name": "python",
   "nbconvert_exporter": "python",
   "pygments_lexer": "ipython3",
   "version": "3.7.4"
  }
 },
 "nbformat": 4,
 "nbformat_minor": 2
}
